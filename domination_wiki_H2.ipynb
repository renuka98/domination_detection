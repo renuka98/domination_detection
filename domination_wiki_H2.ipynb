{
 "cells": [
  {
   "cell_type": "code",
   "execution_count": null,
   "metadata": {},
   "outputs": [],
   "source": [
    "import os\n",
    "import argparse\n",
    "import numpy as np\n",
    "import pandas as pd\n",
    "import sys\n",
    "#sort the data with the help of users"
   ]
  },
  {
   "cell_type": "code",
   "execution_count": null,
   "metadata": {},
   "outputs": [],
   "source": [
    "node_folder =  'wikidata/'\n",
    "timestamp_col='revtime'\n",
    "df_complete = pd.read_csv(node_folder + \"wiki_consolidated.csv\")\n",
    "df_complete['revtime'] = pd.to_datetime(df_complete['revtime'])\n",
    "df_complete"
   ]
  },
  {
   "cell_type": "code",
   "execution_count": null,
   "metadata": {},
   "outputs": [],
   "source": [
    "#sort the # of users by distinct pages and get the top 200 users.\n",
    "df_complete= df_complete[~df_complete['pagetitle'].str.contains(\"Wikipedia\")]\n",
    "print(df_complete['pagetitle'].nunique())\n",
    "df_page_edits =  df_complete.groupby('username')['pagetitle'].agg(['nunique'])\n",
    "df_page_edits = df_page_edits.sort_values(['nunique'], ascending=False, kind='mergesort')\n",
    "user_list = list(df_page_edits.index.unique())\n",
    "print(user_list[:200])"
   ]
  },
  {
   "cell_type": "code",
   "execution_count": null,
   "metadata": {},
   "outputs": [],
   "source": [
    "import matplotlib.pyplot as plt\n",
    "hist = df_page_edits.hist(column='nunique', bins=50)\n",
    "df_page_edits.to_csv(node_folder + \"wiki_num_users.csv\")"
   ]
  },
  {
   "cell_type": "code",
   "execution_count": null,
   "metadata": {},
   "outputs": [],
   "source": [
    "from numpy import genfromtxt\n",
    "words = genfromtxt('wikidata/wiki_data_users.txt')\n",
    "print(words)"
   ]
  },
  {
   "cell_type": "code",
   "execution_count": null,
   "metadata": {},
   "outputs": [],
   "source": [
    "import pylab\n",
    "pylab.rcParams['xtick.major.pad']='8'\n",
    "pylab.rcParams['ytick.major.pad']='8'\n",
    "#pylab.rcParams['font.sans-serif']='Arial'\n",
    "\n",
    "from matplotlib import rc\n",
    "rc('font', family='sans-serif')\n",
    "rc('font', size=10.0)\n",
    "rc('text', usetex=False)\n",
    "\n",
    "\n",
    "from matplotlib.font_manager import FontProperties\n",
    "\n",
    "panel_label_font = FontProperties().copy()\n",
    "panel_label_font.set_weight(\"bold\")\n",
    "panel_label_font.set_size(12.0)\n",
    "panel_label_font.set_family(\"sans-serif\")"
   ]
  },
  {
   "cell_type": "code",
   "execution_count": null,
   "metadata": {},
   "outputs": [],
   "source": [
    "%pylab inline\n",
    "import powerlaw\n",
    "\n",
    "\n",
    "data = words\n",
    "\n",
    "fit = powerlaw.Fit(data, discrete=True)\n",
    "#print(fit.)\n",
    "####\n",
    "figCCDF = fit.plot_pdf(color='r', linewidth=3, label=\"Pages edited count fit\")\n",
    "fit.power_law.plot_pdf(color='b', linestyle='--', linewidth=2,label=\"Power law fit\",  ax=figCCDF)\n",
    "#fit.plot_ccdf(color='r', linewidth=2, ax=figCCDF)\n",
    "#fit.power_law.plot_ccdf(color='r', linestyle='--', ax=figCCDF)\n",
    "####\n",
    "figCCDF.set_ylabel(u\"p(X)\")\n",
    "figCCDF.set_xlabel(r\"count of distinct pages edited by user\")\n",
    "#handles, labels = fig.get_legend_handles_labels()\n",
    "#figCCDF.legend(handles, labels, loc=2)\n",
    "\n",
    "figname = 'FigCCDF'\n",
    "savefig(figname+'.eps', bbox_inches='tight')"
   ]
  },
  {
   "cell_type": "code",
   "execution_count": null,
   "metadata": {},
   "outputs": [],
   "source": [
    "#get all pages that have been edited by the users in user_list\n",
    "min_list = user_list[:50]\n",
    "df_limited_data = df_complete[df_complete.username.isin(min_list)]\n",
    "df_limited_data"
   ]
  },
  {
   "cell_type": "code",
   "execution_count": null,
   "metadata": {},
   "outputs": [],
   "source": [
    "pages_by_max_users = list(df_limited_data.pagetitle.unique())\n",
    "print(len(pages_by_max_users))\n",
    "\n"
   ]
  },
  {
   "cell_type": "code",
   "execution_count": null,
   "metadata": {},
   "outputs": [],
   "source": [
    "df_page_user = df_complete[df_complete.pagetitle.isin(pages_by_max_users)]\n",
    "#df_temp = df_page_user.groupby('pagetitle')['username'].agg(['nunique'])\n",
    "#df_temp = df_temp.sort_values(['nunique'], ascending=False, kind='mergesort')\n",
    "df_page_user\n",
    "print(len(df_page_user.username.unique()))\n",
    "#df_temp"
   ]
  },
  {
   "cell_type": "code",
   "execution_count": null,
   "metadata": {},
   "outputs": [],
   "source": [
    "df_with_user = df_page_user.groupby('pagetitle')['stiki_score'].agg(['mean', 'median'])\n",
    "\n",
    "df_page_no_user = df_page_user[~df_page_user['username'].isin(min_list)]\n",
    "df_page_no_user"
   ]
  },
  {
   "cell_type": "code",
   "execution_count": null,
   "metadata": {},
   "outputs": [],
   "source": [
    "df_without_user = df_page_no_user.groupby('pagetitle')['stiki_score'].agg(['mean', 'median'])\n",
    "df_without_user.rename(columns={'mean':'mean_without_user', 'median':'median_without_user'}, inplace=True)\n",
    "\n",
    "df_final = df_with_user.merge(df_without_user, on='pagetitle', how='left')\n",
    "df_final"
   ]
  },
  {
   "cell_type": "code",
   "execution_count": null,
   "metadata": {},
   "outputs": [],
   "source": [
    "df_final.to_csv(node_folder + \"wiki_hypothesis2.csv\")"
   ]
  },
  {
   "cell_type": "code",
   "execution_count": null,
   "metadata": {},
   "outputs": [],
   "source": []
  }
 ],
 "metadata": {
  "kernelspec": {
   "display_name": "Python 3",
   "language": "python",
   "name": "python3"
  },
  "language_info": {
   "codemirror_mode": {
    "name": "ipython",
    "version": 3
   },
   "file_extension": ".py",
   "mimetype": "text/x-python",
   "name": "python",
   "nbconvert_exporter": "python",
   "pygments_lexer": "ipython3",
   "version": "3.7.4"
  }
 },
 "nbformat": 4,
 "nbformat_minor": 2
}
