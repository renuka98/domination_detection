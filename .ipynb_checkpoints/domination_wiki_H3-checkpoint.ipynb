{
 "cells": [
  {
   "cell_type": "markdown",
   "metadata": {},
   "source": [
    "## Detecting Domination in Wikipedia\n",
    "Hypothesis: destructive domination occurs when a small number of users contribute to a disproportionate number of pages and they are not best positioned to do so"
   ]
  },
  {
   "cell_type": "code",
   "execution_count": null,
   "metadata": {},
   "outputs": [],
   "source": [
    "import os\n",
    "import argparse\n",
    "import numpy as np\n",
    "import pandas as pd\n",
    "import sys\n",
    "\n",
    "\n",
    "#Preprocessing the logfile\n",
    "node_folder =  'wikidata/'\n",
    "timestamp_col='revtime'\n",
    "\n"
   ]
  },
  {
   "cell_type": "code",
   "execution_count": null,
   "metadata": {},
   "outputs": [],
   "source": [
    "import os\n",
    "import argparse\n",
    "import numpy as np\n",
    "import pandas as pd\n",
    "import sys\n",
    "node_folder =  'wikidata/'\n",
    "timestamp_col='revtime'\n",
    "\n",
    "df_complete = pd.read_csv(node_folder + \"wiki_processed_rev.csv\")\n",
    "df_complete['revtime'] = pd.to_datetime(df_complete['revtime'])"
   ]
  },
  {
   "cell_type": "code",
   "execution_count": null,
   "metadata": {},
   "outputs": [],
   "source": [
    "df_complete"
   ]
  },
  {
   "cell_type": "code",
   "execution_count": null,
   "metadata": {
    "scrolled": true
   },
   "outputs": [],
   "source": [
    "#df_complete.to_csv(node_folder + \"wiki_processed_rev.csv\")\n",
    "\n",
    "df_reverted = df_complete[df_complete.isReverted==True]\n",
    "df_reverted= df_complete[df_complete['username']!=df_complete['rev_username']]\n",
    "\n",
    "df_user_reverts =  df_reverted.groupby('rev_username')['username'].agg(['nunique'])\n",
    "df_user_reverts = df_user_reverts.sort_values(['nunique'], ascending=False, kind='mergesort')\n",
    "df_user_reverts.to_csv(node_folder + \"wiki_revert_users.csv\")\n"
   ]
  },
  {
   "cell_type": "code",
   "execution_count": null,
   "metadata": {},
   "outputs": [],
   "source": [
    "#get hte names of users whose data got reverted and the pages\n",
    "# store the list of top 100 users who made the reverts\n",
    "revert_user_list = list(df_user_reverts.index.unique())\n",
    "min_rev_list =revert_user_list[:200]\n"
   ]
  },
  {
   "cell_type": "code",
   "execution_count": null,
   "metadata": {},
   "outputs": [],
   "source": [
    "from numpy import genfromtxt\n",
    "import pylab\n",
    "pylab.rcParams['xtick.major.pad']='8'\n",
    "pylab.rcParams['ytick.major.pad']='8'\n",
    "#pylab.rcParams['font.sans-serif']='Arial'\n",
    "\n",
    "from matplotlib import rc\n",
    "rc('font', family='sans-serif')\n",
    "rc('font', size=10.0)\n",
    "rc('text', usetex=False)\n",
    "\n",
    "\n",
    "from matplotlib.font_manager import FontProperties\n",
    "\n",
    "panel_label_font = FontProperties().copy()\n",
    "panel_label_font.set_weight(\"bold\")\n",
    "panel_label_font.set_size(12.0)\n",
    "panel_label_font.set_family(\"sans-serif\")\n",
    "\n",
    "words = genfromtxt('wikidata/reverted_user_data.txt')\n",
    "\n",
    "\n",
    "%pylab inline\n",
    "import powerlaw\n",
    "\n",
    "\n",
    "data = words\n",
    "\n",
    "fit = powerlaw.Fit(data, discrete=True)\n",
    "#print(fit.)\n",
    "####\n",
    "figCCDF = fit.plot_pdf(color='r', linewidth=3, label=\"Pages edited count fit\")\n",
    "fit.power_law.plot_pdf(color='b', linestyle='--', linewidth=2,label=\"Power law fit\",  ax=figCCDF)\n",
    "#fit.plot_ccdf(color='r', linewidth=2, ax=figCCDF)\n",
    "#fit.power_law.plot_ccdf(color='r', linestyle='--', ax=figCCDF)\n",
    "####\n",
    "figCCDF.set_ylabel(u\"p(X)\")\n",
    "figCCDF.set_xlabel(r\"count of distinct users whose edits were reverted by other user\")\n",
    "#handles, labels = fig.get_legend_handles_labels()\n",
    "#figCCDF.legend(handles, labels, loc=2)\n",
    "\n",
    "figname = 'FigCCDF'\n",
    "savefig(figname+'.eps', bbox_inches='tight')"
   ]
  },
  {
   "cell_type": "code",
   "execution_count": null,
   "metadata": {},
   "outputs": [],
   "source": [
    "data = words\n",
    "fit = powerlaw.Fit(data, discrete=True)\n",
    "####\n",
    "fit.distribution_compare('power_law', 'lognormal')\n",
    "fig = fit.plot_pdf(linewidth=3, label='Empirical Data')\n",
    "fit.power_law.plot_pdf(ax=fig, color='r', linestyle='--', label='Power law fit')\n",
    "fit.lognormal.plot_pdf(ax=fig, color='g', linestyle='--', label='Lognormal fit')\n",
    "####\n",
    "fig.set_ylabel(u\"p(X≥x)\")\n",
    "fig.set_xlabel(\"Word Frequency\")\n",
    "handles, labels = fig.get_legend_handles_labels()\n",
    "fig.legend(handles, labels, loc=3)\n",
    "\n",
    "figname = 'FigLognormal'\n",
    "savefig(figname+'.eps', bbox_inches='tight')"
   ]
  },
  {
   "cell_type": "code",
   "execution_count": null,
   "metadata": {},
   "outputs": [],
   "source": [
    "#get the page name having the top reverted users\n",
    "print(len(df_reverted.pagetitle.unique()))\n",
    "df_reverted_pages = df_reverted[df_reverted.rev_username.isin(min_rev_list)]\n",
    "print(len(df_reverted_pages.pagetitle.unique()))\n",
    "page_list = df_reverted_pages.pagetitle.unique()"
   ]
  },
  {
   "cell_type": "code",
   "execution_count": null,
   "metadata": {},
   "outputs": [],
   "source": [
    "# get the pages with from the data\n",
    "df_main_pages = df_complete[df_complete.pagetitle.isin(page_list)]\n",
    "print(df_main_pages.shape)\n",
    "\n",
    "#get the original stiki score\n",
    "df_page_score = df_main_pages.groupby('pagetitle')['stiki_score'].agg(['mean', 'median'])\n",
    "\n",
    "# get all reverts where the reverted user was in this top 200 list and then get the stiki score.\n",
    "df_score_reverts = df_main_pages[(df_main_pages['rev_username'].isin(min_rev_list) & df_main_pages['isReverted']==True)]\n",
    "df_score_reverts"
   ]
  },
  {
   "cell_type": "code",
   "execution_count": null,
   "metadata": {},
   "outputs": [],
   "source": [
    "df_score_reverts = df_score_reverts.groupby('pagetitle')['stiki_score'].agg(['mean', 'median'])\n",
    "df_score_reverts.rename(columns={'mean':'mean_rev_score', 'median':'median_rev_score'}, inplace=True)\n",
    "\n",
    "df_final = df_page_score.merge(df_score_reverts, on='pagetitle', how='left')\n",
    "df_final"
   ]
  },
  {
   "cell_type": "code",
   "execution_count": null,
   "metadata": {},
   "outputs": [],
   "source": [
    "df_final.to_csv(node_folder + \"wiki_hypothesis3.csv\")"
   ]
  },
  {
   "cell_type": "code",
   "execution_count": null,
   "metadata": {},
   "outputs": [],
   "source": []
  }
 ],
 "metadata": {
  "kernelspec": {
   "display_name": "Python 3",
   "language": "python",
   "name": "python3"
  },
  "language_info": {
   "codemirror_mode": {
    "name": "ipython",
    "version": 3
   },
   "file_extension": ".py",
   "mimetype": "text/x-python",
   "name": "python",
   "nbconvert_exporter": "python",
   "pygments_lexer": "ipython3",
   "version": "3.7.4"
  }
 },
 "nbformat": 4,
 "nbformat_minor": 2
}
